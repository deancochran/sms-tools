{
 "cells": [
  {
   "cell_type": "markdown",
   "metadata": {},
   "source": [
    "# Exercise 1: Python and sounds\n",
    "\n",
    "This exercise aims to get familiar with some basic audio operations using Python. There are four parts to it: 1) Reading an audio file, 2) Basic operations with audio, 3) Python array indexing, and 4) Downsampling audio - Changing the sampling rate. \n",
    "\n",
    "Before doing the exercise, please go through the general information for all the exercises given in `README.txt` of the `notebooks` directory. \n",
    "\n",
    "### Relevant concepts\n",
    "\n",
    "__Python:__ Python is a powerful and easy to learn programming language, which is used in a wide variety of application areas. More information in https://www.python.org/. We will use python in all the exercises and in this first one you will start learning about it by performing some basic operations with sound files. \n",
    "\n",
    "__Jupyter notebooks:__ Jupiter notebooks are interactive documents containing live code, equations, visualizations and narrative text. More information in https://jupyter.org/. It supports Python and all the exercises here use it.\n",
    "\n",
    "__Wav file:__ The wav file format is a lossless format to store sounds on a hard drive. Each audio sample is stored as a 16 bit integer number (sometimes also as 24 bit integer or 32 bit float). In this course we will work with only one type of audio files. All the sound files we use in the assignments should be wav files that are mono (one channel), in which the samples are stored in 16 bits, and that use (most of the time) the sampling rate of 44100 Hz. Once read into python, the samples will be converted to floating point values with a range from -1 to 1, resulting in a one-dimensional array of floating point values."
   ]
  },
  {
   "cell_type": "markdown",
   "metadata": {},
   "source": [
    "## Part 1 - Reading in an audio file\n",
    "The `read_audio_samples()` function bellow should read an audio file and return a specified number of consecutive samples of the file starting at a given sample. \n",
    "\n",
    "The input to the function is the file name (including the path), plus the location of first sample and the number of consecutive samples to take, and the output should be a numpy array.\n",
    "\n",
    "If you use the `wavread()` function from the `utilFunctions` module available in the `software/models` directory, the input samples will be automatically converted to a numpy array of floating point numbers with a range from -1 to 1, which is what we want. \n",
    "\n",
    "Remember that in python, the index of the first sample of an array is 0 and not 1."
   ]
  },
  {
   "cell_type": "code",
   "execution_count": 183,
   "metadata": {},
   "outputs": [],
   "source": [
    "import sys\n",
    "import os\n",
    "import numpy as np\n",
    "#Additional imports required to plot the sounds later in the notebook\n",
    "%matplotlib inline\n",
    "import matplotlib.pyplot as plt\n",
    "\n",
    "sys.path.append('../software/models/')\n",
    "from utilFunctions import wavread, wavwrite"
   ]
  },
  {
   "cell_type": "code",
   "execution_count": 184,
   "metadata": {},
   "outputs": [],
   "source": [
    "# E1 - 1.1: Complete the read_audio_samples() function\n",
    "\n",
    "def read_audio_samples(input_file, first_sample=50001, num_samples=10):\n",
    "    \"\"\"Read num_samples samples from an audio file starting at sample first_sample\n",
    "    \n",
    "    Args:\n",
    "        input_file (str): path of a wav file      \n",
    "    \n",
    "    Returns:\n",
    "        np.array: numpy array containing the selected samples\n",
    "    \n",
    "    \"\"\"\n",
    "    \n",
    "    ### Your code here\n",
    "    #first read the input file to obtain the rate and data\n",
    "    (fs, x) = wavread(input_file)\n",
    "    #then return a splice of the data in regards to the designated 'first_sample' and the 'num_samples' requested\n",
    "    #dont forget to account for the index value of the first_sample value (subtract 1 from the first sample)\n",
    "    return x[first_sample-1:first_sample-1+num_samples]\n",
    "    \n"
   ]
  },
  {
   "cell_type": "markdown",
   "metadata": {},
   "source": [
    "You can use as input the sound files from the sounds directory, thus using a relative path to it. If you run the `read_audio_samples()` function using the `piano.wav` sound file as input, with the default arguments, it should return the following samples:\n",
    "```\n",
    "array([-0.06213569, -0.04541154, -0.02734458, -0.0093997, 0.00769066, 0.02319407, 0.03503525, 0.04309214, 0.04626606,  0.0441908], dtype=float32)\n",
    "```"
   ]
  },
  {
   "cell_type": "code",
   "execution_count": 185,
   "metadata": {},
   "outputs": [
    {
     "data": {
      "text/plain": [
       "array([-0.06213569, -0.04541154, -0.02734458, -0.0093997 ,  0.00769066,\n",
       "        0.02319407,  0.03503525,  0.04309214,  0.04626606,  0.0441908 ],\n",
       "      dtype=float32)"
      ]
     },
     "execution_count": 185,
     "metadata": {},
     "output_type": "execute_result"
    }
   ],
   "source": [
    "# E1 - 1.2: Call read_audio_samples() with the proposed input sound and default arguments\n",
    "\n",
    "### Your code here\n",
    "#calling our function\n",
    "read_audio_samples('../sounds/piano.wav')\n"
   ]
  },
  {
   "cell_type": "markdown",
   "metadata": {},
   "source": [
    "## Part 2 - Basic operations with audio"
   ]
  },
  {
   "cell_type": "markdown",
   "metadata": {},
   "source": [
    "The function `minMaxAudio()` should read an audio file and return the minimum and  maximum values of the audio samples in that file. The input to the function is the wav file name (including the path) and the output should be two floating point values returned as a tuple."
   ]
  },
  {
   "cell_type": "code",
   "execution_count": 186,
   "metadata": {},
   "outputs": [],
   "source": [
    "# E1 - 2.1: Complete function minMaxAudio()\n",
    "\n",
    "def min_max_audio(input_file):\n",
    "    \"\"\"Compute the minimum and maximum values of the audio samples in the input file\n",
    "    \n",
    "    Args:\n",
    "        inputFile(str): file name of the wav file (including path)\n",
    "    \n",
    "    Returns:\n",
    "        tuple: minimum and maximum value of the audio samples, like: (min_val, max_val)\n",
    "    \"\"\"\n",
    "    ### Your code here\n",
    "    #Again we just want to call the read function to obtain the rate and data\n",
    "    (fs, x) = wavread(input_file)\n",
    "    #then use pythons min and max feature to pull the minimum and maximum values out of the list\n",
    "    return (min(x), max(x))\n"
   ]
  },
  {
   "cell_type": "markdown",
   "metadata": {},
   "source": [
    "If you run `min_max_audio()` using `oboe-A4.wav` as input, it should return the following output: \n",
    "\n",
    "```\n",
    "(-0.83486432, 0.56501967)\n",
    "```"
   ]
  },
  {
   "cell_type": "code",
   "execution_count": 197,
   "metadata": {},
   "outputs": [],
   "source": [
    "# E1 - 2.2: Plot input sound with x-axis in seconds, and call min_max_audio() with the proposed sound file\n",
    "\n",
    "### Your code here\n",
    "#This problem needed to be separated into different cells, \n",
    "#but begin with representing the title of the sound file with a string\n",
    "oboe_file=\"oboe-A4.wav\"\n"
   ]
  },
  {
   "cell_type": "code",
   "execution_count": 188,
   "metadata": {},
   "outputs": [
    {
     "data": {
      "text/plain": [
       "(-0.8348643, 0.56501967)"
      ]
     },
     "execution_count": 188,
     "metadata": {},
     "output_type": "execute_result"
    }
   ],
   "source": [
    "#calling our min_max_audio function to verify our results\n",
    "min_max_audio('../sounds/'+oboe_file)"
   ]
  },
  {
   "cell_type": "code",
   "execution_count": 189,
   "metadata": {},
   "outputs": [
    {
     "data": {
      "image/png": "[encoded data removed]",
      "text/plain": [
       "<Figure size 432x288 with 1 Axes>"
      ]
     },
     "metadata": {
      "needs_background": "light"
     },
     "output_type": "display_data"
    }
   ],
   "source": [
    "#To plot sound...\n",
    "#first read the. sound file\n",
    "(fs,x)=wavread('../sounds/'+oboe_file)\n",
    "#create a time frame of the sound in seconds (create a list)\n",
    "t=np.arange(x.size)/float(fs)\n",
    "#then and the data and time frame to the plot\n",
    "plt.plot(t,x)\n",
    "#adding decorations to the plot\n",
    "plt.title(oboe_file)\n",
    "plt.xlabel(\"Seconds\")\n",
    "plt.show()\n"
   ]
  },
  {
   "cell_type": "markdown",
   "metadata": {},
   "source": [
    "## Part 3 - Python array indexing"
   ]
  },
  {
   "cell_type": "markdown",
   "metadata": {},
   "source": [
    "For the function `hop_samples()`, given a numpy array `x`, it should return every Mth element of `x`, starting from the first element. The input arguments to this function are a numpy array `x` and a positive integer `M` such that `M` < number of elements in `x`. The output of this function should be a numpy array."
   ]
  },
  {
   "cell_type": "code",
   "execution_count": 190,
   "metadata": {},
   "outputs": [],
   "source": [
    "# E1 - 3.1: Complete the function hop_samples()\n",
    "\n",
    "def hop_samples(x, M):\n",
    "    \"\"\"Return every Mth element of the input array\n",
    "    \n",
    "    Args:\n",
    "        x(np.array): input numpy array\n",
    "        M(int): hop size (positive integer)\n",
    "    \n",
    "    Returns:\n",
    "        np.array: array containing every Mth element in x, starting from the first element in x\n",
    "    \"\"\"\n",
    "    ### Your code here\n",
    "    # simply return the spliced version of the array separated by M samples\n",
    "    return(x[::M])\n"
   ]
  },
  {
   "cell_type": "markdown",
   "metadata": {},
   "source": [
    "If you run the function`hop_samples()` with `x = np.arange(10)` and `M = 2` as inputs, it should return: \n",
    "\n",
    "```\n",
    "array([0, 2, 4, 6, 8])\n",
    "```"
   ]
  },
  {
   "cell_type": "code",
   "execution_count": 191,
   "metadata": {},
   "outputs": [
    {
     "name": "stdout",
     "output_type": "stream",
     "text": [
      "[0 2 4 6 8]\n"
     ]
    }
   ],
   "source": [
    "# E1 - 3.2: Plot input array, call hop_samples() with proposed input, and plot output array\n",
    "\n",
    "### Your code here\n",
    "x = np.arange(10)\n",
    "M=2\n",
    "print(hop_samples(x,M))\n"
   ]
  },
  {
   "cell_type": "markdown",
   "metadata": {},
   "source": [
    "## Part 4 - Downsampling\n"
   ]
  },
  {
   "cell_type": "markdown",
   "metadata": {},
   "source": [
    "One of the required processes to represent an analog signal inside a computer is sampling. The sampling rate is the number of samples obtained in one second when sampling a continuous analog signal to a discrete digital signal. As mentioned we will be working with wav audio files that have a sampling rate of 44100 Hz, which is a typical value. Here you will learn a simple way of changing the original sampling rate of a sound to a lower sampling rate, and will learn the implications it has in the audio quality.\n",
    "\n",
    "The function `down_sample_audio()` has as input an audio file with a given sampling rate, it should apply downsampling by a factor of `M` and return a down-sampled version of the input samples. The sampling rates and downsampling factors to use have to be integer values.\n",
    "\n",
    "From the output samples if you need to create a wav audio file from an array, you can use the `wavwrite()` function from the `utilFunctions.py` module. However, in this exercise there is no need to write an audio file, we will be able to hear the sound without creating a file, just playing the array of samples."
   ]
  },
  {
   "cell_type": "code",
   "execution_count": 192,
   "metadata": {},
   "outputs": [],
   "source": [
    "# E1 - 4.1: Complete function down_sample_audio()\n",
    "\n",
    "def down_sample_audio(input_file, M):\n",
    "    \"\"\"Downsample by a factor of M the input signal\n",
    "    \n",
    "    Args:\n",
    "        input_file(str): file name of the wav file (including path)\n",
    "        M(int): downsampling factor (positive integer)\n",
    "        \n",
    "    Returns:\n",
    "        tuple: input samples (np.array), original sampling rate (int), down-sampled signal (np.array), \n",
    "               and new sampling rate (int), like: (x, fs, y, fs_new) \n",
    "    \"\"\"\n",
    "    ### Your code here\n",
    "    #first we read the file and obtian the rate and data\n",
    "    (fs_x, x) = wavread(input_file)\n",
    "    #then we obtain the downsampled data\n",
    "    y = hop_samples(x,M)\n",
    "    #we adjust our frequency rate by M\n",
    "    fs_y = fs_x/M\n",
    "    # no need to write to a file but here's how we would do it\n",
    "    #wavwrite(y, fs_y, 'Downsampled_Sound.wav')\n",
    "    #return the adjusted sample rate and the downsampled data\n",
    "    return (fs_y, y)"
   ]
  },
  {
   "cell_type": "markdown",
   "metadata": {},
   "source": [
    "Test cases for `down_sample_audio()`:\n",
    "\n",
    "_Test Case 1:_ Use the file from the sounds directory `vibraphone-C6.wav` and a downsampling factor of `M=14`.\n",
    "\n",
    "_Test Case 2:_ Use the  file from the sounds directory `sawtooth-440.wav` and a downsampling factor of `M=14`.\n",
    "\n",
    "To play the output samples, import the `Ipython.display` package and use `ipd.display(ipd.Audio(data=y, rate=fs_new))`. To visualize the output samples import the `matplotlib.pyplot` package and use `plt.plot(x)`.\n",
    "\n",
    "You can find some related information in https://en.wikipedia.org/wiki/Downsampling_(signal_processing)"
   ]
  },
  {
   "cell_type": "code",
   "execution_count": 194,
   "metadata": {},
   "outputs": [],
   "source": [
    "import IPython.display as ipd\n",
    "import matplotlib.pyplot as plt"
   ]
  },
  {
   "cell_type": "code",
   "execution_count": 195,
   "metadata": {},
   "outputs": [
    {
     "data": {
      "image/png": "[encoded data removed]",
      "text/plain": [
       "<Figure size 432x288 with 1 Axes>"
      ]
     },
     "metadata": {
      "needs_background": "light"
     },
     "output_type": "display_data"
    },
    {
     "data": {
      "text/html": [
       "\n",
       "                <audio  controls=\"controls\" >\n",
       "                    <source src=\"data:audio/wav;base64,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\" type=\"audio/wav\" />\n",
       "                    Your browser does not support the audio element.\n",
       "                </audio>\n",
       "              "
      ],
      "text/plain": [
       "<IPython.lib.display.Audio object>"
      ]
     },
     "metadata": {},
     "output_type": "display_data"
    },
    {
     "data": {
      "image/png": "[encoded data removed]",
      "text/plain": [
       "<Figure size 432x288 with 1 Axes>"
      ]
     },
     "metadata": {
      "needs_background": "light"
     },
     "output_type": "display_data"
    },
    {
     "data": {
      "text/html": [
       "\n",
       "                <audio  controls=\"controls\" >\n",
       "                    <source src=\"data:audio/wav;base64,UklGRsAYAABXQVZFZm10IBAAAAABAAEATgwAAJwYAAACABAAZGF0YZwYAAAAAJwCLQPFATn+rvgh8R3pMxboD2UH0vws8HvhC9GCLAkfag+s/dvp6tMxu3dG9TAKGigBH+bXyHioV2RRRd4lwAas53fIgqj6bqhKOisnDBftEs7FrvJvTU8fMDARTfKF08e0ApcUU4s03hUf933YKrrhnnJWujhBGqT7B92vvnaiGFoLPZoeBABg4dnCL6ULX9pBUSOXBM/lA8c2qMJmWkd2KIQJluqJyxuscHhTTfAt1w7N75zQ/rABgFBTeDNMFC/1DNastq2Sl1jAOJcZkfqT24+8mZyoXHQ9fx6i/9HgI8L2o1JfqEEHI1EEqeUkx4aph2CeRVQnvQgl6p/Ly63XX/JJvisnDYDu5s+Esca9Bk+TMN4REfM31E61aZbzVOQ1+RYA+PbYtblqmKRbkjtgHE79Ld7RvtCdKmIqQdAhsgKi42zEX6SRZ0ZGCif/BwbpEcoFq5Rpp0rAK+0MI+5wzwCxPkKETh8wfxHW8kLUF7YnoDhSVzTbFUb3q9hWunefeFbUOFcaq/v93F2+sKAIXOE9LR9bAIThksJNo2Fjd0NqJG0FbOZIx22nT21cSe0p1gq064zMvaztfwVPYy86ECTxDtKwspGH5VNyNGUVdvaQ16u4RpnKVwQ5Lhpq+7TcKL71oM5aKT2jHv//YOH1wuOlj11LQfgiXQTM5UHHi6kkYehFgSfcCC/qcMvnrPloLkt/LK4N0O7iz7iwA5AwUe4x4xLh88HUW7ULkYJXkTdPGDv5GNqxurGYWF0APb8dpv6Z33nAZqDXYddByCLYA/PkIsZhpxxkH0ZjJ6AI6+lSyzuttGEHSr4rHg2B7vTP8LEDAAtOCTCGEeLyS9T8tVCewlKsNA8WXPeZ2N654ZucWOE5Chsq/DndHb4unpRfjT9mIFcBReIGw66iVGdJReQlvgal53fIgKj4bqFKOiseDBvtEs7LrvJvRU8aMC8RT/KK08q0CpcSU5E00BUe933YGrrXnnNWtzg8Gqb7Bd26vnaiG1oFPZ0eAwBg4dfCOKUJX99BTyOXBNLl/sYlqLxmV0dzKI4Jm+qTyxisbXhVTest2g7L76DQArEQgEtTfzNOFDX1GdautrSSlljCOJ8ZmPqY24a8mZyvXGs9iB6s/9fgGcL1o09foEEEI1IEq+Utx5CpjGCjRVUnvggt6qbLza3SX+5JvisfDYnu1M+CscK9/k6TMOAREPM11FC1aZb+VOs1+Rb79/jYublsmJlbkjtbHEf9KN7UvtSdMGIsQdchtAKi42zEX6SYZ0tGByf4BwnpHMr9qpBpsErGK+8MHu5tzwCxRUKETiUwfRHa8j3UD7YyoDVSTzTbFT/3rNhqunefe1bROE8arPv93Fq+taAHXNc9Kh9bAHzhisJTo2NjdUNvJG0Fa+ZFx2+nTG1YSewp0wq364PMt6z6f/5OZi8+ECTxE9KqspCH61NyNGcVefaN16S4NpnOV/04Lhpq+7LcIL71oNBaJj2XHvn/W+HwwuKljF1LQfgiWgTG5UPHjqknYeBFgyffCCXqcMvxrP9oNEt/LK4N2O7hz8CwEZA1Uesx4xLe88TUVLUGkYBXjjdVGD75EtqyuqmYT137PLsdrP6Z33TAZaDfYdtByiLVA/PkIcZepyJkJkZoJ6sI6OlUyzmtsGEISrIrIg197vrP87H8/wlOATB9EeLyTdTrtUieylKqNBcWW/eW2OG535ucWOE5ABsq/DndI74rnptfjD9nIFkBQuIDw6uiUWdMReglwAao53LIgKj3bqJKMSspDBvtE87JrvVvS08lMC0RVfJ/09K0/5YSU5E01hUl93rYILrennBWwjg/GqT7DN2vvn2iG1oJPZ4e/f9j4dfCMqURX9tBUSOcBMzlAMc2qL9mYEdwKIoJm+qOyxascnhVTfAt1A7F75/QArEGgEVTgjNGFC/1Gdaktq6SkFi/OJkZkPqZ25G8nZytXHQ9hR6q/9TgI8L9o1JfpkEEI1QEruUqx4OpgWCnRU8nvggo6qbLza3SX/VJxCstDYnu4c+BscC9BU+SMOIRC/M61E61bJb5VOk19BYG+PPYvLlvmKFblDtVHEz9Kd7bvs6dL2ItQdAhtwKd42/EZKSbZ0ZGAif9BwzpHMoFq45prErIK/AMJe5tz/qwQ0J5TiIwdRHU8kLUDrYqoC1SVjTWFUL3q9hiunyfglbYOGAarvv03Gq+raAKXN89LB9ZAHzhksJZo2FjdUNqJGcFb+Y6x3CnUG1VSewpzAq6633Mu6z4fwNPYS83ECjxDdKwspSH6FN3NG0VcfaL16S4PJnOVwQ5Ohpv+6rcK774oMlaKj2dHvz/ZuH1wuOljF1OQfQiWgTK5UDHjqkiYeFFhifiCCjqcsvsrP9oNkt8LLMN0e7bz7mwEZA1UeYx6RLk88bUVLUAkXtXkTdVGEX5GNqyuqyYUF34PLwdrP6X327Aa6DVYd1BzCLVA/jkHMZhpxpkKEZnJ6UI6elZyzatuGEISr4rHA2E7v/P/rH9/w5OCTCIEd/yTtT2tUiex1K1NBMWXPeZ2N6545ukWOQ5Dhsr/D7dIL4unqBfjD9jIFYBSuIFw66iUmdOReMlwwaj52/Ihqj1bqpKOSsmDBXtEM7JrvhvQ08kMDIRV/J608K0/5YSU4s02RUc93zYH7rinnhWtzg5GqD7Dd2yvnaiHVoNPaAeBgBe4dnCNaUJX+JBVCObBNflAcc2qMJmXEd2KIcJnOqQyxuseHhSTfYt2A7G76DQBbEOgElTgzNGFDf1D9aktquSmVi3OJcZmPqZ24S8mZytXHE9eR6p/9fgIcLzo09fpUEKI1IEruUqx4KpkGCcRVUnvQgn6qHLzq3WX/RJuyspDYju2c9+scC9A0+QMOIREPM41FG1bZb4VOk17hb+9/bYv7lymJxbkTtjHEv9Md7UvtSdMmIqQc8htAKc42zEX6SUZ0tGBycICA7pFcoCq5tpskrPK+gMLe5jzwCxOEJ+TiUwfxHR8j/UErYpoDVSXzTZFUX3qdhfunefcFbUOFAaqfv63GC+s6AKXNc9JB9RAIHhlMJYo2ZjfENqJHUFbOZBx2qnUm1aSfIpzgqu64PMuqzyfwVPYS86ECjxE9KqspOH61N3NGsVd/aH16y4PJnSVwI5Mhpl+7fcIL7yoNFaMT2iHgQAY+H6wuKlkV1IQfYiYATE5UjHiKkqYeBFhifhCCXqcMvyrPpoOUuCLK0N0O7hz8CwCZA0UfAx5RLc88fUWbULkYNXljdVGED5INq0urGYVV3yPLkdp/6W33PAY6DXYeNByCLYA/DkGsZlpyFkKEZoJ6cI6elUyzutuGEFSrYrHg197vjPArL//wlOATCIEeLySNT5tUyev1KuNBUWWfeb2OG55JuhWOo5ERso/DjdKL4onppfjD9hIFQBSOIDw66iWWdWReQlwgar53XIgKj1bqdKNCsmDCDtE87DrvVvS08hMDIRT/J308y0CZcXU4003BUh93zYI7rZnnNWtDg/Gp77EN2yvm+iFloLPaAeBgBm4dzCM6UNX9tBTCOZBM7l+8YwqLxmV0d1KIwJmOqTyxKsc3hTTfAt2g7I76XQALEIgElTgjNMFC31E9aktraSlljDOJQZmPqU24u8oZyvXHA9gh6l/9ngHsL9o1VflUEMI1QEqeUlx36pjGChRVcnwwgn6qLLy63UX/FJwCssDYTu38+EscW9AE+QMNsREPMy1FS1Z5b+VO41+RYB+PjYublomJ1blTtgHET9Kd7ZvtGdNWItQcwhugKg42/EY6STZ0lGDCcDCAzpFcr/qpNprErMK+oMIO5zzwCxO0J/TicwfBHX8kDUEbYpoDhSXDTYFUX3q9hfunafelbfOFcaq/v93GC+qKAIXNw9JR9fAHvhjcJRo2RjcUNnJG8FceZBx2ynU21cSewpzgq664PMtazyfwNPYy83ECnxENKtspOH6FN3NGAVd/aL1564RJnLVwU5LBpq+7LcKL7yoMhaLj2jHvz/ZeH3wuqlkV1NQfAiWgTD5UbHk6kfYd1FeyfbCC/qeMvqrPpoOUuBLK0N0e7Xz7OwDpA4Ue4x6BLa88TUVrUIkX1XjDdSGDr5INq1uqmYTF39PLwdov6Z33PAYaDcYd1BxSLbA+3kH8ZkpyRkG0ZjJ6II8elXyz6tuWEFSsArJA2D7vLP77EAAAZOCDB/EeLyTdT+tU2ex1KxNBMWXveZ2N2545uhWOk5Chsl/DbdHb4jnqBfiD9mIFwBSuIDw6miS2dOReQlwAal53fIgKj0bq1KQSseDBjtEs7Oru1vQ08hMDARUPJ808+0ApcOU5A03hUh93jYG7rannBWwDhCGqP7B92yvnSiE1oLPZseBABe4dLCOKULX9tBViOWBM/lAMc4qL9mVUd1KIcJmeqIyxqscnhTTfUt1Q7I76XQA7EMgE5TfzNOFDX1EdaotrOSmVi/OJkZlfqe24i8nJyqXHA9fx6l/9TgKcL4o1JfnUEHI1IEpeUnx4OpjWCjRVQnvggo6qTLzq3LX/JJxispDX7u389+scC9/k6SMNoRDvMx1FC1bJb8VOg19RYG+P7YvLlnmJpbjztjHEv9K97XvtGdLWIlQdMhrwKj43HEXKSZZ0tGDCcCCAvpF8oEq5dprUrEK/YMIu5tz/6wQkKFTicwfxHW8j3UF7YnoCxSXDTgFTv3rthcunyfelbZOFIaqfv53FW+raAFXOE9JR9ZAHnhj8JRo2djckNlJGgFZ+Y+x3CnTG1USfIpywq364jMt6z9f/1OZC8+EDbxENKrso2H6FNyNGcVdPaO16a4RpnLV/04ORpq+7HcHb7zoMtaIz2gHv//W+H4wuWllF1NQfQiXQTG5T3HkKkiYeZFiSfZCCjqbcv1rPpoNEt/LK0N0O7cz7awDpA4UfEx4RLn88TUULUMkYBXjzdXGD35Gtq4uqmYVV3+PLQdpv6Z33PAZaDYYeJBxyLYA/XkIcZipxlkI0ZrJ60I7elUyzmts2EISrUrHA197vjP+7EEAA5OCzB/EdryR9T2tU2eylKsNBIWW/eY2OW55pueWOQ5ABsq/DndI74onphfij9jIGQBTeIJw6uiVmdTReAlwAax53LIfaj3bqxKOSsfDB3tEs7DrvNvQE8hMDMRUvJ+08y0BpcOU4g01hUe93/YIrranndWwzg5Gqb7Dd2zvnSiGFoIPZ4e//9l4drCNaUNX91BTyOXBM/lBMc2qMJmVUd5KI8JnOqDyxqscHhQTe8t1A7F75/QBrEDgElThTNJFDf1D9autrSSl1i9OJUZkfqO24+8mpyrXHM9hR6l/9TgHsL5o1ZfoUEDI1IEruUix4WphWCfRVQnxQgn6qfLya3OX/dJuyspDYPu3M+BscC9Bk+SMNoREPM61E21b5b+VOw19BYB+PbYv7limKRbjjthHE79K97XvtCdLGInQdshrwKf427EX6SZZ05GBycICAzpGsr9qpBpuErGK+8MJu5tz/2wPkJ+ThwwfBHT8kLUFLYxoDNSWTTeFUP3pthiunafelbWOFgasfv53GC+sKACXN09Jx9UAH/hkMJOo2ljeENsJGgFceY+x2ynUG1cSekpzwqx64PMuqz3fwJPXi8zECnxE9Kzso6H6FN1NGQVdvaQ16a4QZnNV/04MRpt+6/cJr71oMlaJj2eHv3/XeHywuqlkV1NQfwiXQS/5UXHlKknYd1FgCfeCCfqb8vvrPloNkt/LKsN0O7iz7mwC5A3Ue0x5hLc88nUU7UFkXtXkTdYGD35Hdq1urGYTV39PLsdof6c33nAaaDYYd1BzCLZA/DkH8ZhpxJkH0ZjJ5wI8+lRyzytuGENSrkrIg2D7vrP+rH//w1OCDCCEd7yTdQEtkievlKvNA8WXPeY2OC525ufWOM5Axsn/DndKL4pnptfiD9pIFcBReIFw7GiV2dEReYlxQao52zIiKgDb6VKQisiDCDtEs7JruhvQE8hMDARTfKB08q0B5cXU4004BUi93zYI7rfnnBWxTg/GqH7Et2+vnSiGloIPZseAQBd4dfCLaURX9pBVyOZBNLl+8Y4qL1mV0d1KI8Jm+qQyxCsc3hNTfAt2g7I76TQBrEJgEZTfzNLFDX1D9aptrGSlFi9OJQZkfqT24m8nZytXHM9fx6l/9bgI8L2o09foEEDI1QEqeUqx4mpgmCjRU0nuwgf6p/Ly63SX/JJwSsqDYDu38+BscK9/k6YMOARDvM91FG1bJb+VOE1/BYE+PbYwrlymJxblDteHE79KN7TvtGdMmInQc8htAKj43LEZqSRZ0ZGCCcHCAvpF8oMq5BprErEK+gMIu5rz/2wRUKBTikwgBHZ8kLUErYjoDJSXjTYFTX3rthfunefe1bZOFgarvv93F2+raAIXNo9Jx9fAHjhjMJRo2RjckNoJHUFaeZBx2mnUG1cSe0pzwq0633Mr6z0fwNPaS8yECvxDdKwspSH61N1NGoVf/aN16m4QZnSVwI5Mhps+6/cJb76oM5aJD2gHgAAWOH4wuiljF1LQfEiZQTE5UPHi6kmYeVFfifXCCLqd8vsrPloOUt5LK4N1e7Zz7uwEJA4Ue0x4xLi88PUXrUOkYNXkTdNGDv5H9q4urGYT137PLQdp/6a33HAaaDUYdhByCLdA/vkHcZhpyJkI0ZnJ6II8elUyzuttGEHSrYrHw2E7vjP+LEDAA5OETB/Ed7yTdT7tUiewlKyNBcWY/eZ2Nu54ZunWOE5Dhso/DHdK74snppfjT9pIFcBReIDw7OiVmdMRdslxQaj53XIfaj9bqhKNisiDCDtD87MrvJvPU8kMDMRV/J/09G0BJcXU5Q00xUl94LYHbrcnnBWxjg3GqP7Et21vneiHloGPZse/P9l4d3CKKUNX91BTyOcBM/lBMcwqMdmXUdwKIoJluqJyxOscHhSTfAt2g7J75nQBrEIgEtThTNSFDL1DtajtqiSmVi7OI8Zlfqb24m8nJyqXHA9hB6q/9DgFML7o1BfoEEDI1EEruUox4CpkmChRU0ntQgi6qHL0K3WX/FJwysvDYPu3M+Csbq9/k6SMN4RGPM11E21apb/VOk19xb+9/nYsrlfmKRbkTtjHE/9KN7QvtCdMGIqQdIhtQKl42zEaaSUZ0RGBScDCAbpH8r/qpRpsErIK/UMK+5rzwCxQEKCTicwgxHU8kLUDrYuoDNSXjTYFUX3sdhfunmfdVbeOFsatPv83Fu+q6AKXN09Kh9ZAH/hisJQo25jdUNnJHAFbOZFx22nUG1RSfIpzwqy637Mr6z3f/1OZy83EC/xDdKtso6H4lNwNGcVcvaT16a4QJnNV/84Lxpq+6rcJr77oMtaKj2mHgMAWuHzwuqljF1OQfMiYgTE5UHHjakiYdtFhCfhCCvqc8vyrPpoM0uELKgN1e7fz7iwEJA6Uesx4xLa88fUWbUQkYBXlDddGDj5H9qyuqmYV136PLsdp/6X33HAZaDcYdpByCLYA/jkH8ZspxxkI0ZtJ6UI6+lUy0Kts2EESrsrHg2D7vzP+rH9/wtOBjB/EeLyStT+tUiexFK1NBUWWPeS2Nq54ZucWOc5Axsj/DbdHr4xnqVfgj9kIFYBROIFw7CiT2dBReQlxgaw52/IeqjvbqpKOiseDBrtEs7BrvpvRU8fMC0RWvJ808q0CZcUU4s04RUq93zYGLranm1WuDhFGpv7At21vmyiG1oNPZ4eAQBe4dLCMqUIX9hBTyOUBMrlAcc7qL1mV0d2KIYJkeqLyxasb3hVTfMt2A7J75/Q/bALgE5TfzNJFDT1EdaktrCSm1i/OJUZjfqT24u8nJyvXG49gh6h/9TgI8L4o01flUEJI1cEreUsx4apimCmRVUnxQgn6qTLxq3WX+xJwCstDYPu3M+JscW9/k6NMNoRBvM11Fa1bJb8VOs17xYE+PDYvLl1mJxbjztjHEn9M97evtGdNGIqQdchtwKg42zEYaSRZ05GCCcCCAvpH8r8qpZpsErTK+8MIu5uz/2wPUJ7Th4wghHe8j/UErYvoDJSWjTZFT/3pthhunufe1bROFgarPv93F2+s6AKXNo9LB9bAHzhlMJVo2pjd0NwJHAFZ+ZDx2+nUG1VSfQpzwqy64PMtaztfwJPZi86ECHxCNKtspSH6FN4NGUVcvaK16y4OZnDV/04Lxpn+6zcIL71oMhaLD2gHvr/XuH7wuiliV1IQfgiXwTH5UDHi6kiYd1FeSfXCDDqbcvxrPpoMUt8LLAN2O7hz7uwC5A1UeUx4RLc88HUWbUGkUBWOTWhFur56t55xZ6rk0lVLr8VCP8g6t3W0cTQORIlmRLzARXzAOan2lonkhlADawCzPm98oDtGBNgDBgGdwGQ/mf98/0=\" type=\"audio/wav\" />\n",
       "                    Your browser does not support the audio element.\n",
       "                </audio>\n",
       "              "
      ],
      "text/plain": [
       "<IPython.lib.display.Audio object>"
      ]
     },
     "metadata": {},
     "output_type": "display_data"
    }
   ],
   "source": [
    "# E1 - 4.2: Plot and play input sounds, call the function down_sample_audio() for the two test cases, \n",
    "# and plot and play the output sounds. \n",
    "\n",
    "### Your code here\n",
    "\n",
    "#The code is identical for both test cases:\n",
    "    #1- M=14\n",
    "    #2- set the file name to the plot_title var\n",
    "    #3- set the path name to the test_case var\n",
    "    #4- obtain the downsampled_audio rate and data with test_case and M\n",
    "    #5- initialize t to be the time frame of the audio in seconds\n",
    "    #6- plot the sound (also add labels and titles)\n",
    "    #7- use ipd.display to hear the sound that is being plotted\n",
    "    \n",
    "M=14\n",
    "\n",
    "\n",
    "#Vibraphone Code\n",
    "\n",
    "plot_title=\"vibraphone-C6.wav\"\n",
    "test_case1=\"../sounds/\"+plot_title\n",
    "(fs_tc1,x_tc1)=down_sample_audio(test_case1, M)\n",
    "t_tc1=np.arange(x_tc1.size)/float(fs_tc1)\n",
    "plt.plot(t_tc1,x_tc1)\n",
    "plt.title(\"Vibraphone-C6\")\n",
    "plt.xlabel(\"Seconds\")\n",
    "plt.show()\n",
    "ipd.display(ipd.Audio(data=x_tc1, rate=fs_tc1))\n",
    "\n",
    "#Sawtooth Code\n",
    "\n",
    "plot_title=\"sawtooth-440.wav\"\n",
    "test_case2=\"../sounds/\"+plot_title\n",
    "(fs_tc2,x_tc2)=down_sample_audio(test_case2, M)\n",
    "t_tc2=np.arange(x_tc2.size)/float(fs_tc2)\n",
    "plt.plot(t_tc2,x_tc2)\n",
    "plt.title(\"Vibraphone-C6\")\n",
    "plt.xlabel(\"Seconds\")\n",
    "plt.show()\n",
    "ipd.display(ipd.Audio(data=x_tc2, rate=fs_tc2))\n"
   ]
  },
  {
   "cell_type": "code",
   "execution_count": 198,
   "metadata": {},
   "outputs": [
    {
     "data": {
      "text/plain": [
       "'\\nWhat happened to the output signals compared to the input ones? \\nThe output signals were formed with fewer samples then the input ones, this. was due to down-sampling. \\nOne could argue that the quality of the sound was decreased.\\n\\nIs there a difference between the 2 cases? Why?\\nYes! Test case 1 diminished in amplitude while Test case 2 stayed consitent. In terms of downsampling, \\nno, both sounds were reduced by the same rate.\\n\\nHow could we avoid damaging the signal when downsampling it?\\nWe could avoid the damage done to the signal by finding the most optimal values \\nto produce the same sound without clipping our audio.\\n\\n\\n'"
      ]
     },
     "execution_count": 198,
     "metadata": {},
     "output_type": "execute_result"
    }
   ],
   "source": [
    "# E1 - 4.3: Explain the results of part 4. What happened to the output signals compared to the input ones? \n",
    "# Is there a difference between the 2 cases? Why? How could we avoid damaging the signal when downsampling it?\n",
    "\n",
    "\"\"\"\n",
    "Our downsampling method produces an estimate of the original sequence created with 'wavread',\n",
    "that would have been obtained by sampling the signal at a lower rate. This means that the output signals were \n",
    "formed with fewer samples then the input ones. One could argue that the quality of the sound was decreased.\n",
    "\n",
    "In the resulting TestCases, Case 1 was diminished in amplitude  over time while Test case 2 stayed consitent. \n",
    "In terms of downsampling, no, both sounds were reduced by the same rate.\n",
    "\n",
    "We could avoid the damage done to the original signal when downsampling by finding the most optimal values \n",
    "to produce the same sound without clipping our audio.\n",
    "\n",
    "\"\"\""
   ]
  },
  {
   "cell_type": "code",
   "execution_count": null,
   "metadata": {},
   "outputs": [],
   "source": []
  }
 ],
 "metadata": {
  "kernelspec": {
   "display_name": "Python 3",
   "language": "python",
   "name": "python3"
  },
  "language_info": {
   "codemirror_mode": {
    "name": "ipython",
    "version": 3
   },
   "file_extension": ".py",
   "mimetype": "text/x-python",
   "name": "python",
   "nbconvert_exporter": "python",
   "pygments_lexer": "ipython3",
   "version": "3.8.8"
  }
 },
 "nbformat": 4,
 "nbformat_minor": 4
}
